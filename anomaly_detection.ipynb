{
  "nbformat": 4,
  "nbformat_minor": 0,
  "metadata": {
    "colab": {
      "name": "Untitled3.ipynb",
      "provenance": [],
      "authorship_tag": "ABX9TyM9EcmpCuEbZEiI2ZkhLyop",
      "include_colab_link": true
    },
    "kernelspec": {
      "name": "python3",
      "display_name": "Python 3"
    },
    "language_info": {
      "name": "python"
    }
  },
  "cells": [
    {
      "cell_type": "markdown",
      "metadata": {
        "id": "view-in-github",
        "colab_type": "text"
      },
      "source": [
        "<a href=\"https://colab.research.google.com/github/bhaydon/online-fraud-risk-detection/blob/main/anomaly_detection.ipynb\" target=\"_parent\"><img src=\"https://colab.research.google.com/assets/colab-badge.svg\" alt=\"Open In Colab\"/></a>"
      ]
    },
    {
      "cell_type": "markdown",
      "source": [
        "###Anamaloy Detection in Python###\n",
        "The most consistent challenge facing fraud detectionanalysts and data scientists out there is detecting abnormal data trends. The realm of fraud analytics does not escape this reality, albeit with somewhat unique challenges. At the risk of stating the obvious, every risk/fraud team should vigilantly monitor the traffic trends of their online service in order to spot and react to anomalies as soon as possible. \n",
        "\n",
        "There is a seemingly endless set of resources online for visualizing and monitoring traffic trends. In reality, many companies will eschew third-party products and elect instead to utlize a business intelligence (BI) dashboard or tailoring open source Python scripts to analyze and visualize data.\n",
        "\n"
      ],
      "metadata": {
        "id": "HanHDRcAAcV4"
      }
    },
    {
      "cell_type": "code",
      "execution_count": null,
      "metadata": {
        "id": "-1Q0g2lEAKAn"
      },
      "outputs": [],
      "source": [
        ""
      ]
    }
  ]
}