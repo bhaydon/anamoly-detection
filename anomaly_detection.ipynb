{
  "nbformat": 4,
  "nbformat_minor": 0,
  "metadata": {
    "colab": {
      "name": "Untitled3.ipynb",
      "provenance": [],
      "authorship_tag": "ABX9TyPyCcJEpop4vjELRvigxmNG",
      "include_colab_link": true
    },
    "kernelspec": {
      "name": "python3",
      "display_name": "Python 3"
    },
    "language_info": {
      "name": "python"
    }
  },
  "cells": [
    {
      "cell_type": "markdown",
      "metadata": {
        "id": "view-in-github",
        "colab_type": "text"
      },
      "source": [
        "<a href=\"https://colab.research.google.com/github/bhaydon/online-fraud-risk-detection/blob/main/anomaly_detection.ipynb\" target=\"_parent\"><img src=\"https://colab.research.google.com/assets/colab-badge.svg\" alt=\"Open In Colab\"/></a>"
      ]
    },
    {
      "cell_type": "markdown",
      "source": [
        "###Anamaloy Detection in Python###\n",
        "The most consistent challenge facing fraud detectionanalysts and data scientists out there is detecting abnormal data trends. The realm of fraud analytics does not escape this reality, albeit with somewhat unique challenges. At the risk of stating the obvious, every risk/fraud team should vigilantly monitor the traffic trends of their online service in order to spot and react to anomalies as soon as possible. \n",
        "\n",
        "There is a seemingly endless set of resources online for visualizing and monitoring traffic trends. In reality, many companies will eschew third-party products and elect instead to utlize a business intelligence (BI) dashboard or tailoring open source Python scripts to analyze and visualize data.\n",
        "\n"
      ],
      "metadata": {
        "id": "HanHDRcAAcV4"
      }
    },
    {
      "cell_type": "code",
      "execution_count": 1,
      "metadata": {
        "id": "-1Q0g2lEAKAn",
        "outputId": "67a94be0-74ed-4dac-9ac5-6f5517d460e9",
        "colab": {
          "base_uri": "https://localhost:8080/",
          "height": 133
        }
      },
      "outputs": [
        {
          "output_type": "error",
          "ename": "SyntaxError",
          "evalue": "ignored",
          "traceback": [
            "\u001b[0;36m  File \u001b[0;32m\"<ipython-input-1-9a0bfc4c8ae2>\"\u001b[0;36m, line \u001b[0;32m1\u001b[0m\n\u001b[0;31m    SELECT userID,\u001b[0m\n\u001b[0m                ^\u001b[0m\n\u001b[0;31mSyntaxError\u001b[0m\u001b[0;31m:\u001b[0m invalid syntax\n"
          ]
        }
      ],
      "source": [
        "SELECT userID,\n",
        "sum(CASE\n",
        "    WHEN count_logins = 1 THEN 1\n",
        "    ELSE 0\n",
        "  END)/count(*) AS perc_of_1_logins_in_perc,\n",
        "sum(CASE\n",
        "    WHEN count_logins >1 THEN 1\n",
        "    ELSE 0 END)/count(*) AS perc_of_above_1_logins_in_perc,\n",
        "sum(CASE\n",
        "    WHEN count_logins >1 THEN count_logins\n",
        "    ELSE 0\n",
        "  END)/sum(count_logins) AS perc_of_above_1_logins_sum(count_logins)\n",
        "sum(count_logins) total_login\n",
        "  FROM daily_logins_per_user_count\n",
        "GROUP BY 1;"
      ]
    }
  ]
}